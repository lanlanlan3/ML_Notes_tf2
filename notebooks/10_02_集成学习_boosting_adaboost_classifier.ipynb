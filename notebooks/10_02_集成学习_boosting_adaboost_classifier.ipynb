{
 "cells": [
  {
   "cell_type": "markdown",
   "metadata": {},
   "source": [
    "### 一.简介\n",
    "\n",
    "adaboost是一种boosting方法，它的要点包括如下两方面：   \n",
    "\n",
    "#### 1.模型生成\n",
    "每一个基分类器会基于上一轮分类器在训练集上的表现，对样本做权重调整，使得错分样本的权重增加，正确分类的样本权重降低，所以当前轮的训练更加关注于上一轮误分的样本；   \n",
    "\n",
    "#### 2.模型组合\n",
    "adaboost是采用的加权投票的方法   \n",
    "\n",
    "简单来说，adaboost算法涉及两种权重的计算：**样本权重**、**分类器权重**，接下来直接讲算法流程"
   ]
  },
  {
   "cell_type": "markdown",
   "metadata": {},
   "source": [
    "### 二.算法流程\n",
    "\n",
    "输入：训练集$T=\\{(x_1,y_1),(x_2,y_2),...,(x_N,y_N)\\}$，其中$x_i\\in R^n,y_i\\in\\{+1,-1\\},i=1,2,...,N$   \n",
    "\n",
    "输出：最终分类器$G(x)$  \n",
    "\n",
    ">（1）初始化训练数据的权重分布：  \n",
    "\n",
    "$$\n",
    "D_1=(w_{11},...,w_{1i},...,w_{1N}),w_{1i}=\\frac{1}{N},i=1,2,...,N\n",
    "$$  \n",
    "\n",
    ">（2）对$m=1,2,...,M:$   \n",
    "\n",
    ">>（2.1）使用具有权重分布$D_m$的训练数据集学习，得到基本分类器：$G_m(x)$   \n",
    ">>（2.2）计算$G_m(x)$在训练集上的分类误差率：$e_m=\\sum_{i=1}^NP(G_m(x_i)\\neq y_i)=\\sum_{i=1}^Nw_{mi}I(G_m(x_i)\\neq y_i)$  \n",
    ">>（2.3）计算$G_m(x)$的权重系数：$\\alpha_m=\\frac{1}{2}ln\\frac{1-e_m}{e_m}$  \n",
    ">>（2.4）更新训练样本权重：  \n",
    "$$\n",
    "w_{m+1,i}=\\frac{w_{mi}}{Z_m}exp(-\\alpha_my_iG_m(x_i)),i=1,2,...,N\n",
    "$$  \n",
    "这里$Z_m$是归一化因子   \n",
    "\n",
    ">（3）基于基分类器，构建最终的分类器：  \n",
    "\n",
    "$$\n",
    "G(x)=sign(\\sum_{m=1}^M\\alpha_mG_m(x))\n",
    "$$\n",
    "\n",
    "简单来说大致流程如下：  \n",
    "![avatar](./source/10_adaboost训练.png)\n",
    "\n",
    "### 三.代码实现"
   ]
  },
  {
   "cell_type": "code",
   "execution_count": 1,
   "metadata": {
    "ExecuteTime": {
     "end_time": "2020-12-29T22:15:02.415325Z",
     "start_time": "2020-12-29T22:15:00.806696Z"
    }
   },
   "outputs": [],
   "source": [
    "import os\n",
    "os.chdir('../')\n",
    "from ml_models import utils\n",
    "from ml_models.tree import CARTClassifier\n",
    "import copy\n",
    "import numpy as np\n",
    "%matplotlib inline\n",
    "\n",
    "\n",
    "\"\"\"\n",
    "AdaBoost分类器的实现，封装到ml_models.ensemble\n",
    "\"\"\"\n",
    "\n",
    "class AdaBoostClassifier(object):\n",
    "    def __init__(self, base_estimator=None, n_estimators=10, learning_rate=1.0):\n",
    "        \"\"\"\n",
    "        :param base_estimator: 基分类器，允许异质；异质的情况下使用列表传入比如[estimator1,estimator2,...,estimator10],这时n_estimators会失效；\n",
    "                                同质的情况，单个estimator会被copy成n_estimators份\n",
    "        :param n_estimators: 基分类器迭代数量\n",
    "        :param learning_rate: 学习率，降低后续基分类器的权重，避免过拟合\n",
    "        \"\"\"\n",
    "        self.base_estimator = base_estimator\n",
    "        self.n_estimators = n_estimators\n",
    "        self.learning_rate = learning_rate\n",
    "        if self.base_estimator is None:\n",
    "            # 默认使用决策树桩\n",
    "            self.base_estimator = CARTClassifier(max_depth=2)\n",
    "        # 同质分类器\n",
    "        if type(base_estimator) != list:\n",
    "            estimator = self.base_estimator\n",
    "            self.base_estimator = [copy.deepcopy(estimator) for _ in range(0, self.n_estimators)]\n",
    "        # 异质分类器\n",
    "        else:\n",
    "            self.n_estimators = len(self.base_estimator)\n",
    "\n",
    "        # 记录estimator权重\n",
    "        self.estimator_weights = []\n",
    "\n",
    "    def fit(self, x, y):\n",
    "        n_sample = x.shape[0]\n",
    "        sample_weights = np.asarray([1.0] * n_sample)\n",
    "        for index in range(0, self.n_estimators):\n",
    "            self.base_estimator[index].fit(x, y, sample_weight=sample_weights)\n",
    "\n",
    "            indicates = (self.base_estimator[index].predict(x) == y).astype(int)\n",
    "            # 计算误分率\n",
    "            error_rate = np.sum([sample_weights[j] * (1.0 - indicates[j]) for j in range(0, n_sample)]) / n_sample\n",
    "\n",
    "            # 计算权重系数\n",
    "            alpha_rate = 1.0 / 2.0 * np.log((1 - error_rate) / (error_rate + 1e-7))\n",
    "            alpha_rate = min(10.0, alpha_rate)\n",
    "            self.estimator_weights.append(alpha_rate)\n",
    "\n",
    "            # 更新样本权重\n",
    "            for j in range(0, n_sample):\n",
    "                sample_weights[j] = sample_weights[j] * np.exp(-1.0 * alpha_rate * np.power(-1.0, 1 - indicates[j]))\n",
    "            sample_weights = sample_weights / np.sum(sample_weights) * n_sample\n",
    "        # 更新estimator权重\n",
    "        for i in range(0, self.n_estimators):\n",
    "            self.estimator_weights[i] *= np.power(self.learning_rate, i)\n",
    "\n",
    "    def predict_proba(self, x):\n",
    "        # TODO:并行优化\n",
    "        result = np.sum(\n",
    "            [self.base_estimator[j].predict_proba(x) * self.estimator_weights[j] for j in\n",
    "             range(0, self.n_estimators)],\n",
    "            axis=0)\n",
    "        return result / result.sum(axis=1, keepdims=True)\n",
    "\n",
    "    def predict(self, x):\n",
    "        return np.argmax(self.predict_proba(x), axis=1)"
   ]
  },
  {
   "cell_type": "code",
   "execution_count": 3,
   "metadata": {
    "ExecuteTime": {
     "end_time": "2020-12-29T22:15:11.692651Z",
     "start_time": "2020-12-29T22:15:11.348636Z"
    }
   },
   "outputs": [
    {
     "name": "stderr",
     "output_type": "stream",
     "text": [
      "<frozen importlib._bootstrap>:219: RuntimeWarning: numpy.ufunc size changed, may indicate binary incompatibility. Expected 192 from C header, got 216 from PyObject\n"
     ]
    }
   ],
   "source": [
    "#造伪数据\n",
    "from sklearn.datasets import make_classification\n",
    "data, target = make_classification(n_samples=100, n_features=2, n_classes=2, n_informative=1, n_redundant=0,\n",
    "                                   n_repeated=0, n_clusters_per_class=1, class_sep=.5,random_state=21)"
   ]
  },
  {
   "cell_type": "code",
   "execution_count": 4,
   "metadata": {
    "ExecuteTime": {
     "end_time": "2020-12-29T22:15:25.634696Z",
     "start_time": "2020-12-29T22:15:11.696650Z"
    }
   },
   "outputs": [
    {
     "data": {
      "image/png": "[encoded data removed]",
      "text/plain": [
       "<Figure size 432x288 with 1 Axes>"
      ]
     },
     "metadata": {
      "needs_background": "light"
     },
     "output_type": "display_data"
    }
   ],
   "source": [
    "# 同质\n",
    "classifier = AdaBoostClassifier(base_estimator=CARTClassifier(max_depth=2),n_estimators=10)\n",
    "classifier.fit(data, target)\n",
    "utils.plot_decision_function(data, target, classifier)"
   ]
  },
  {
   "cell_type": "code",
   "execution_count": 5,
   "metadata": {
    "ExecuteTime": {
     "end_time": "2020-12-29T22:15:54.139905Z",
     "start_time": "2020-12-29T22:15:25.638692Z"
    }
   },
   "outputs": [
    {
     "data": {
      "image/png": "[encoded data removed]",
      "text/plain": [
       "<Figure size 432x288 with 1 Axes>"
      ]
     },
     "metadata": {
      "needs_background": "light"
     },
     "output_type": "display_data"
    }
   ],
   "source": [
    "#异质\n",
    "from ml_models.linear_model import LogisticRegression\n",
    "from ml_models.svm import SVC\n",
    "classifier = AdaBoostClassifier(base_estimator=[LogisticRegression(),SVC(kernel='rbf',C=5.0),CARTClassifier()])\n",
    "classifier.fit(data, target)\n",
    "utils.plot_decision_function(data, target, classifier)"
   ]
  },
  {
   "cell_type": "code",
   "execution_count": 6,
   "metadata": {
    "ExecuteTime": {
     "end_time": "2020-12-29T22:16:26.358374Z",
     "start_time": "2020-12-29T22:15:54.143907Z"
    }
   },
   "outputs": [
    {
     "data": {
      "image/png": "[encoded data removed]",
      "text/plain": [
       "<Figure size 432x288 with 1 Axes>"
      ]
     },
     "metadata": {
      "needs_background": "light"
     },
     "output_type": "display_data"
    }
   ],
   "source": [
    "# 权重衰减\n",
    "classifier = AdaBoostClassifier(base_estimator=[LogisticRegression(),SVC(kernel='rbf',C=5.0),CARTClassifier()],learning_rate=0.5)\n",
    "classifier.fit(data, target)\n",
    "utils.plot_decision_function(data, target, classifier)"
   ]
  },
  {
   "cell_type": "code",
   "execution_count": 7,
   "metadata": {
    "ExecuteTime": {
     "end_time": "2020-12-29T22:16:26.370335Z",
     "start_time": "2020-12-29T22:16:26.362374Z"
    }
   },
   "outputs": [],
   "source": [
    "from sklearn.tree import DecisionTreeClassifier\n",
    "from sklearn.metrics import classification_report"
   ]
  },
  {
   "cell_type": "code",
   "execution_count": 9,
   "metadata": {
    "ExecuteTime": {
     "end_time": "2020-12-29T22:16:59.130336Z",
     "start_time": "2020-12-29T22:16:59.098297Z"
    }
   },
   "outputs": [
    {
     "name": "stdout",
     "output_type": "stream",
     "text": [
      "              precision    recall  f1-score   support\n",
      "\n",
      "           0       0.96      0.94      0.95        50\n",
      "           1       0.94      0.96      0.95        50\n",
      "\n",
      "    accuracy                           0.95       100\n",
      "   macro avg       0.95      0.95      0.95       100\n",
      "weighted avg       0.95      0.95      0.95       100\n",
      "\n"
     ]
    }
   ],
   "source": [
    "print(classification_report(target, classifier.predict(data)))"
   ]
  },
  {
   "cell_type": "code",
   "execution_count": 10,
   "metadata": {
    "ExecuteTime": {
     "end_time": "2020-12-29T22:17:41.835585Z",
     "start_time": "2020-12-29T22:17:13.872597Z"
    }
   },
   "outputs": [
    {
     "data": {
      "text/plain": [
       "'2.3.1'"
      ]
     },
     "execution_count": 10,
     "metadata": {},
     "output_type": "execute_result"
    }
   ],
   "source": [
    "import tensorflow as tf\n",
    "\n",
    "tf.__version__"
   ]
  },
  {
   "cell_type": "code",
   "execution_count": 55,
   "metadata": {
    "ExecuteTime": {
     "end_time": "2020-12-29T22:41:46.930292Z",
     "start_time": "2020-12-29T22:41:46.898260Z"
    }
   },
   "outputs": [],
   "source": [
    "class AdaBoost(object):\n",
    "    def __init__(self, base_estimator=None, n_estimators=10):\n",
    "        self.base_estimator = base_estimator\n",
    "        self.n_estimators = n_estimators\n",
    "        if base_estimator is None:\n",
    "            self.base_estimator = DecisionTreeClassifier(max_depth=2)\n",
    "        self.estimators = [copy.deepcopy(self.base_estimator) for i in range(n_estimators)]\n",
    "        self.estimator_weights = list()\n",
    "        self.sample_weights = list()\n",
    "        self.error_list = list()\n",
    "    \n",
    "    def fit(self, X, y):\n",
    "        # 1, 初始化样本权重\n",
    "        N = tf.shape(X)[0]\n",
    "        sample_weights = tf.fill((N,), [1/N])\n",
    "        self.sample_weights.append(sample_weights)\n",
    "        for m in range(self.n_estimators):\n",
    "            # 2,训练第m个分类器\n",
    "            self.estimators[m].fit(X, y, sample_weight=sample_weights)\n",
    "            pred = self.estimators[m].predict(X)\n",
    "            # 3，计算训练误差\n",
    "            error = tf.cast(pred != y, tf.float64)\n",
    "            e = tf.reduce_sum(error * sample_weights)\n",
    "            self.error_list.append(e)\n",
    "            # 4,计算分类器权重\n",
    "            alpha = 1 / 2 * tf.math.log((1 - e) / e)\n",
    "            self.estimator_weights.append(alpha)\n",
    "            # 5,更新样本权重\n",
    "            sample_weights = sample_weights * tf.math.exp(-1 * y * alpha * pred)\n",
    "            sample_weights /= tf.reduce_sum(sample_weights)\n",
    "            self.sample_weights.append(sample_weights)\n",
    "            \n",
    "    def predict(self, X):\n",
    "        pred = tf.reshape(self.estimator_weights, (-1, 1)) * [clf.predict(X) for clf in self.estimators]\n",
    "        pred = tf.reduce_sum(pred, axis=0)\n",
    "        return tf.sign(pred)"
   ]
  },
  {
   "cell_type": "code",
   "execution_count": 71,
   "metadata": {
    "ExecuteTime": {
     "end_time": "2020-12-29T22:43:58.837414Z",
     "start_time": "2020-12-29T22:43:58.795024Z"
    }
   },
   "outputs": [],
   "source": [
    "adaboost = AdaBoost(n_estimators=10, base_estimator=DecisionTreeClassifier(max_depth=2))\n",
    "adaboost.fit(tf.constant(data, tf.float64), tf.constant(target, tf.float64))"
   ]
  },
  {
   "cell_type": "code",
   "execution_count": 72,
   "metadata": {
    "ExecuteTime": {
     "end_time": "2020-12-29T22:43:59.244557Z",
     "start_time": "2020-12-29T22:43:59.220361Z"
    }
   },
   "outputs": [],
   "source": [
    "pred = adaboost.predict(data)"
   ]
  },
  {
   "cell_type": "code",
   "execution_count": 73,
   "metadata": {
    "ExecuteTime": {
     "end_time": "2020-12-29T22:43:59.654463Z",
     "start_time": "2020-12-29T22:43:59.622163Z"
    }
   },
   "outputs": [
    {
     "name": "stdout",
     "output_type": "stream",
     "text": [
      "              precision    recall  f1-score   support\n",
      "\n",
      "           0       1.00      0.94      0.97        50\n",
      "           1       0.94      1.00      0.97        50\n",
      "\n",
      "    accuracy                           0.97       100\n",
      "   macro avg       0.97      0.97      0.97       100\n",
      "weighted avg       0.97      0.97      0.97       100\n",
      "\n"
     ]
    }
   ],
   "source": [
    "print(classification_report(target, pred))"
   ]
  },
  {
   "cell_type": "code",
   "execution_count": 74,
   "metadata": {
    "ExecuteTime": {
     "end_time": "2020-12-29T22:44:00.694213Z",
     "start_time": "2020-12-29T22:44:00.650457Z"
    }
   },
   "outputs": [
    {
     "data": {
      "text/plain": [
       "[<tf.Tensor: shape=(100,), dtype=float64, numpy=\n",
       " array([0.01, 0.01, 0.01, 0.01, 0.01, 0.01, 0.01, 0.01, 0.01, 0.01, 0.01,\n",
       "        0.01, 0.01, 0.01, 0.01, 0.01, 0.01, 0.01, 0.01, 0.01, 0.01, 0.01,\n",
       "        0.01, 0.01, 0.01, 0.01, 0.01, 0.01, 0.01, 0.01, 0.01, 0.01, 0.01,\n",
       "        0.01, 0.01, 0.01, 0.01, 0.01, 0.01, 0.01, 0.01, 0.01, 0.01, 0.01,\n",
       "        0.01, 0.01, 0.01, 0.01, 0.01, 0.01, 0.01, 0.01, 0.01, 0.01, 0.01,\n",
       "        0.01, 0.01, 0.01, 0.01, 0.01, 0.01, 0.01, 0.01, 0.01, 0.01, 0.01,\n",
       "        0.01, 0.01, 0.01, 0.01, 0.01, 0.01, 0.01, 0.01, 0.01, 0.01, 0.01,\n",
       "        0.01, 0.01, 0.01, 0.01, 0.01, 0.01, 0.01, 0.01, 0.01, 0.01, 0.01,\n",
       "        0.01, 0.01, 0.01, 0.01, 0.01, 0.01, 0.01, 0.01, 0.01, 0.01, 0.01,\n",
       "        0.01])>,\n",
       " <tf.Tensor: shape=(100,), dtype=float64, numpy=\n",
       " array([0.01388889, 0.01388889, 0.01388889, 0.00462963, 0.01388889,\n",
       "        0.00462963, 0.00462963, 0.01388889, 0.01388889, 0.00462963,\n",
       "        0.01388889, 0.01388889, 0.00462963, 0.01388889, 0.01388889,\n",
       "        0.01388889, 0.01388889, 0.00462963, 0.00462963, 0.01388889,\n",
       "        0.01388889, 0.00462963, 0.00462963, 0.01388889, 0.01388889,\n",
       "        0.00462963, 0.00462963, 0.01388889, 0.01388889, 0.00462963,\n",
       "        0.01388889, 0.01388889, 0.01388889, 0.01388889, 0.01388889,\n",
       "        0.01388889, 0.01388889, 0.01388889, 0.00462963, 0.01388889,\n",
       "        0.00462963, 0.01388889, 0.00462963, 0.01388889, 0.01388889,\n",
       "        0.00462963, 0.01388889, 0.01388889, 0.00462963, 0.00462963,\n",
       "        0.00462963, 0.00462963, 0.01388889, 0.01388889, 0.00462963,\n",
       "        0.00462963, 0.00462963, 0.01388889, 0.00462963, 0.00462963,\n",
       "        0.00462963, 0.01388889, 0.01388889, 0.00462963, 0.00462963,\n",
       "        0.01388889, 0.00462963, 0.01388889, 0.01388889, 0.01388889,\n",
       "        0.01388889, 0.00462963, 0.01388889, 0.00462963, 0.00462963,\n",
       "        0.01388889, 0.01388889, 0.00462963, 0.01388889, 0.01388889,\n",
       "        0.00462963, 0.01388889, 0.01388889, 0.01388889, 0.00462963,\n",
       "        0.01388889, 0.01388889, 0.01388889, 0.00462963, 0.01388889,\n",
       "        0.00462963, 0.00462963, 0.00462963, 0.01388889, 0.01388889,\n",
       "        0.00462963, 0.01388889, 0.00462963, 0.01388889, 0.00462963])>,\n",
       " <tf.Tensor: shape=(100,), dtype=float64, numpy=\n",
       " array([0.0157177 , 0.0157177 , 0.0157177 , 0.00210413, 0.0157177 ,\n",
       "        0.00210413, 0.00210413, 0.0157177 , 0.0157177 , 0.00210413,\n",
       "        0.0157177 , 0.0157177 , 0.00210413, 0.0157177 , 0.0157177 ,\n",
       "        0.0157177 , 0.0157177 , 0.00210413, 0.00210413, 0.0157177 ,\n",
       "        0.0157177 , 0.00210413, 0.00210413, 0.0157177 , 0.0157177 ,\n",
       "        0.00210413, 0.00210413, 0.0157177 , 0.0157177 , 0.00210413,\n",
       "        0.0157177 , 0.0157177 , 0.0157177 , 0.0157177 , 0.0157177 ,\n",
       "        0.0157177 , 0.0157177 , 0.0157177 , 0.00210413, 0.0157177 ,\n",
       "        0.00210413, 0.0157177 , 0.00210413, 0.0157177 , 0.0157177 ,\n",
       "        0.00210413, 0.0157177 , 0.0157177 , 0.00210413, 0.00210413,\n",
       "        0.00210413, 0.00210413, 0.0157177 , 0.0157177 , 0.00210413,\n",
       "        0.00210413, 0.00210413, 0.0157177 , 0.00210413, 0.00210413,\n",
       "        0.00210413, 0.0157177 , 0.0157177 , 0.00210413, 0.00210413,\n",
       "        0.0157177 , 0.00210413, 0.0157177 , 0.0157177 , 0.0157177 ,\n",
       "        0.0157177 , 0.00210413, 0.0157177 , 0.00210413, 0.00210413,\n",
       "        0.0157177 , 0.0157177 , 0.00210413, 0.0157177 , 0.0157177 ,\n",
       "        0.00210413, 0.0157177 , 0.0157177 , 0.0157177 , 0.00210413,\n",
       "        0.0157177 , 0.0157177 , 0.0157177 , 0.00210413, 0.0157177 ,\n",
       "        0.00210413, 0.00210413, 0.00210413, 0.0157177 , 0.0157177 ,\n",
       "        0.00210413, 0.0157177 , 0.00210413, 0.0157177 , 0.00210413])>,\n",
       " <tf.Tensor: shape=(100,), dtype=float64, numpy=\n",
       " array([0.00650802, 0.01651532, 0.01651532, 0.0022109 , 0.01651532,\n",
       "        0.0022109 , 0.0022109 , 0.01651532, 0.01651532, 0.0022109 ,\n",
       "        0.00650802, 0.01651532, 0.0022109 , 0.01651532, 0.01651532,\n",
       "        0.01651532, 0.01651532, 0.00087123, 0.0022109 , 0.01651532,\n",
       "        0.01651532, 0.0022109 , 0.0022109 , 0.01651532, 0.01651532,\n",
       "        0.0022109 , 0.0022109 , 0.01651532, 0.01651532, 0.00087123,\n",
       "        0.01651532, 0.01651532, 0.01651532, 0.01651532, 0.00650802,\n",
       "        0.01651532, 0.01651532, 0.01651532, 0.0022109 , 0.01651532,\n",
       "        0.00087123, 0.01651532, 0.0022109 , 0.01651532, 0.01651532,\n",
       "        0.0022109 , 0.01651532, 0.01651532, 0.00087123, 0.0022109 ,\n",
       "        0.0022109 , 0.0022109 , 0.01651532, 0.01651532, 0.0022109 ,\n",
       "        0.00087123, 0.00087123, 0.01651532, 0.0022109 , 0.0022109 ,\n",
       "        0.0022109 , 0.01651532, 0.01651532, 0.0022109 , 0.0022109 ,\n",
       "        0.01651532, 0.0022109 , 0.01651532, 0.01651532, 0.01651532,\n",
       "        0.01651532, 0.0022109 , 0.01651532, 0.0022109 , 0.00087123,\n",
       "        0.01651532, 0.01651532, 0.0022109 , 0.00650802, 0.01651532,\n",
       "        0.0022109 , 0.01651532, 0.01651532, 0.01651532, 0.0022109 ,\n",
       "        0.01651532, 0.01651532, 0.01651532, 0.0022109 , 0.01651532,\n",
       "        0.0022109 , 0.0022109 , 0.0022109 , 0.01651532, 0.01651532,\n",
       "        0.0022109 , 0.01651532, 0.00087123, 0.01651532, 0.0022109 ])>,\n",
       " <tf.Tensor: shape=(100,), dtype=float64, numpy=\n",
       " array([0.0067039 , 0.0170124 , 0.0170124 , 0.00227745, 0.0170124 ,\n",
       "        0.00227745, 0.00227745, 0.0170124 , 0.0170124 , 0.00086864,\n",
       "        0.0067039 , 0.0170124 , 0.00227745, 0.0170124 , 0.0170124 ,\n",
       "        0.0170124 , 0.0170124 , 0.00089745, 0.00086864, 0.0170124 ,\n",
       "        0.0170124 , 0.00086864, 0.00086864, 0.0170124 , 0.0170124 ,\n",
       "        0.00227745, 0.00086864, 0.0170124 , 0.0170124 , 0.00089745,\n",
       "        0.0170124 , 0.0170124 , 0.0170124 , 0.0170124 , 0.0067039 ,\n",
       "        0.0170124 , 0.0170124 , 0.0170124 , 0.00227745, 0.0170124 ,\n",
       "        0.0003423 , 0.0170124 , 0.00227745, 0.0170124 , 0.0170124 ,\n",
       "        0.00086864, 0.0170124 , 0.0170124 , 0.0003423 , 0.00086864,\n",
       "        0.00086864, 0.00086864, 0.0170124 , 0.0170124 , 0.00227745,\n",
       "        0.0003423 , 0.0003423 , 0.0170124 , 0.00086864, 0.00086864,\n",
       "        0.00086864, 0.0170124 , 0.0170124 , 0.00227745, 0.00086864,\n",
       "        0.0170124 , 0.00086864, 0.0170124 , 0.0170124 , 0.0170124 ,\n",
       "        0.0170124 , 0.00086864, 0.0170124 , 0.00227745, 0.0003423 ,\n",
       "        0.0170124 , 0.0170124 , 0.00227745, 0.0067039 , 0.0170124 ,\n",
       "        0.00227745, 0.0170124 , 0.0170124 , 0.0170124 , 0.00086864,\n",
       "        0.0170124 , 0.0170124 , 0.0170124 , 0.00227745, 0.0170124 ,\n",
       "        0.00086864, 0.00227745, 0.00086864, 0.0170124 , 0.0170124 ,\n",
       "        0.00227745, 0.0170124 , 0.0003423 , 0.0170124 , 0.00086864])>,\n",
       " <tf.Tensor: shape=(100,), dtype=float64, numpy=\n",
       " array([0.00240354, 0.0174766 , 0.0174766 , 0.00233959, 0.0174766 ,\n",
       "        0.00233959, 0.00081653, 0.0174766 , 0.0174766 , 0.00031143,\n",
       "        0.00688682, 0.0174766 , 0.00233959, 0.0174766 , 0.0174766 ,\n",
       "        0.0174766 , 0.0174766 , 0.00092194, 0.00089235, 0.0174766 ,\n",
       "        0.0174766 , 0.00031143, 0.00031143, 0.0174766 , 0.0174766 ,\n",
       "        0.00233959, 0.00031143, 0.0174766 , 0.0174766 , 0.00092194,\n",
       "        0.0174766 , 0.0174766 , 0.0174766 , 0.0174766 , 0.00240354,\n",
       "        0.0174766 , 0.0174766 , 0.0174766 , 0.00233959, 0.0174766 ,\n",
       "        0.00012272, 0.0174766 , 0.00081653, 0.0174766 , 0.0174766 ,\n",
       "        0.00031143, 0.0174766 , 0.0174766 , 0.00012272, 0.00089235,\n",
       "        0.00031143, 0.00089235, 0.0174766 , 0.0174766 , 0.00233959,\n",
       "        0.00035164, 0.00035164, 0.0174766 , 0.00031143, 0.00031143,\n",
       "        0.00089235, 0.0174766 , 0.0174766 , 0.00081653, 0.00089235,\n",
       "        0.0174766 , 0.00089235, 0.0174766 , 0.0174766 , 0.0174766 ,\n",
       "        0.0174766 , 0.00089235, 0.0174766 , 0.00081653, 0.00035164,\n",
       "        0.0174766 , 0.0174766 , 0.00233959, 0.00688682, 0.0174766 ,\n",
       "        0.00081653, 0.0174766 , 0.0174766 , 0.0174766 , 0.00031143,\n",
       "        0.0174766 , 0.0174766 , 0.0174766 , 0.00081653, 0.0174766 ,\n",
       "        0.00031143, 0.00233959, 0.00031143, 0.0174766 , 0.0174766 ,\n",
       "        0.00081653, 0.0174766 , 0.00012272, 0.0174766 , 0.00031143])>,\n",
       " <tf.Tensor: shape=(100,), dtype=float64, numpy=\n",
       " array([0.00079612, 0.01785069, 0.01785069, 0.00238967, 0.01785069,\n",
       "        0.00238967, 0.00083401, 0.01785069, 0.01785069, 0.0003181 ,\n",
       "        0.00703423, 0.01785069, 0.00238967, 0.01785069, 0.01785069,\n",
       "        0.01785069, 0.01785069, 0.00030537, 0.00091145, 0.01785069,\n",
       "        0.01785069, 0.0003181 , 0.0003181 , 0.01785069, 0.01785069,\n",
       "        0.00238967, 0.0003181 , 0.01785069, 0.01785069, 0.00030537,\n",
       "        0.01785069, 0.01785069, 0.01785069, 0.01785069, 0.00079612,\n",
       "        0.01785069, 0.01785069, 0.01785069, 0.00238967, 0.01785069,\n",
       "        0.00012535, 0.01785069, 0.00083401, 0.01785069, 0.01785069,\n",
       "        0.0003181 , 0.01785069, 0.01785069, 0.00012535, 0.00091145,\n",
       "        0.0003181 , 0.00091145, 0.01785069, 0.01785069, 0.00238967,\n",
       "        0.00035916, 0.00035916, 0.00578876, 0.0003181 , 0.0003181 ,\n",
       "        0.00091145, 0.01785069, 0.01785069, 0.00083401, 0.00091145,\n",
       "        0.01785069, 0.00091145, 0.01785069, 0.01785069, 0.01785069,\n",
       "        0.01785069, 0.00091145, 0.01785069, 0.00083401, 0.00035916,\n",
       "        0.01785069, 0.01785069, 0.00238967, 0.00228112, 0.01785069,\n",
       "        0.00083401, 0.01785069, 0.01785069, 0.01785069, 0.0003181 ,\n",
       "        0.01785069, 0.01785069, 0.01785069, 0.00083401, 0.01785069,\n",
       "        0.0003181 , 0.00238967, 0.0003181 , 0.01785069, 0.01785069,\n",
       "        0.00083401, 0.01785069, 0.00012535, 0.01785069, 0.0003181 ])>,\n",
       " <tf.Tensor: shape=(100,), dtype=float64, numpy=\n",
       " array([8.09225342e-04, 1.81444977e-02, 1.81444977e-02, 2.42900187e-03,\n",
       "        1.81444977e-02, 2.42900187e-03, 8.47734799e-04, 1.81444977e-02,\n",
       "        1.81444977e-02, 3.23335608e-04, 7.15001107e-03, 1.81444977e-02,\n",
       "        2.42900187e-03, 1.81444977e-02, 1.81444977e-02, 1.81444977e-02,\n",
       "        1.81444977e-02, 9.41337676e-05, 9.26448695e-04, 1.81444977e-02,\n",
       "        1.81444977e-02, 3.23335608e-04, 3.23335608e-04, 1.81444977e-02,\n",
       "        1.81444977e-02, 2.42900187e-03, 3.23335608e-04, 1.81444977e-02,\n",
       "        1.81444977e-02, 9.41337676e-05, 1.81444977e-02, 1.81444977e-02,\n",
       "        1.81444977e-02, 1.81444977e-02, 8.09225342e-04, 1.81444977e-02,\n",
       "        1.81444977e-02, 1.81444977e-02, 7.36636232e-04, 1.81444977e-02,\n",
       "        1.27413457e-04, 1.81444977e-02, 8.47734799e-04, 1.81444977e-02,\n",
       "        1.81444977e-02, 3.23335608e-04, 1.81444977e-02, 1.81444977e-02,\n",
       "        1.27413457e-04, 9.26448695e-04, 3.23335608e-04, 9.26448695e-04,\n",
       "        5.50262828e-03, 1.81444977e-02, 7.36636232e-04, 3.65075878e-04,\n",
       "        3.65075878e-04, 5.88403909e-03, 3.23335608e-04, 3.23335608e-04,\n",
       "        9.26448695e-04, 1.81444977e-02, 1.81444977e-02, 8.47734799e-04,\n",
       "        9.26448695e-04, 1.81444977e-02, 9.26448695e-04, 1.81444977e-02,\n",
       "        1.81444977e-02, 1.81444977e-02, 1.81444977e-02, 9.26448695e-04,\n",
       "        1.81444977e-02, 8.47734799e-04, 3.65075878e-04, 1.81444977e-02,\n",
       "        1.81444977e-02, 2.42900187e-03, 2.31866130e-03, 1.81444977e-02,\n",
       "        8.47734799e-04, 1.81444977e-02, 1.81444977e-02, 1.81444977e-02,\n",
       "        3.23335608e-04, 1.81444977e-02, 1.81444977e-02, 1.81444977e-02,\n",
       "        8.47734799e-04, 1.81444977e-02, 3.23335608e-04, 2.42900187e-03,\n",
       "        3.23335608e-04, 1.81444977e-02, 1.81444977e-02, 8.47734799e-04,\n",
       "        1.81444977e-02, 1.27413457e-04, 1.81444977e-02, 3.23335608e-04])>,\n",
       " <tf.Tensor: shape=(100,), dtype=float64, numpy=\n",
       " array([8.28029653e-04, 1.85661290e-02, 1.85661290e-02, 2.48544561e-03,\n",
       "        1.85661290e-02, 7.27028660e-04, 8.67433970e-04, 1.85661290e-02,\n",
       "        1.85661290e-02, 3.30849094e-04, 7.31615889e-03, 1.85661290e-02,\n",
       "        7.27028660e-04, 1.85661290e-02, 1.85661290e-02, 1.85661290e-02,\n",
       "        1.85661290e-02, 9.63211936e-05, 9.47976974e-04, 1.85661290e-02,\n",
       "        1.85661290e-02, 3.30849094e-04, 3.30849094e-04, 1.85661290e-02,\n",
       "        1.85661290e-02, 7.27028660e-04, 3.30849094e-04, 1.85661290e-02,\n",
       "        5.43086029e-03, 9.63211936e-05, 1.85661290e-02, 1.85661290e-02,\n",
       "        1.85661290e-02, 1.85661290e-02, 8.28029653e-04, 1.85661290e-02,\n",
       "        1.85661290e-02, 1.85661290e-02, 7.53753759e-04, 1.85661290e-02,\n",
       "        1.30374217e-04, 1.85661290e-02, 2.53736937e-04, 1.85661290e-02,\n",
       "        1.85661290e-02, 3.30849094e-04, 1.85661290e-02, 1.85661290e-02,\n",
       "        1.30374217e-04, 9.47976974e-04, 3.30849094e-04, 9.47976974e-04,\n",
       "        5.63049517e-03, 1.85661290e-02, 7.53753759e-04, 3.73559300e-04,\n",
       "        3.73559300e-04, 6.02076899e-03, 3.30849094e-04, 3.30849094e-04,\n",
       "        9.47976974e-04, 1.85661290e-02, 1.85661290e-02, 2.53736937e-04,\n",
       "        9.47976974e-04, 1.85661290e-02, 9.47976974e-04, 1.85661290e-02,\n",
       "        1.85661290e-02, 1.85661290e-02, 1.85661290e-02, 9.47976974e-04,\n",
       "        1.85661290e-02, 2.53736937e-04, 3.73559300e-04, 1.85661290e-02,\n",
       "        1.85661290e-02, 7.27028660e-04, 2.37254101e-03, 1.85661290e-02,\n",
       "        2.53736937e-04, 1.85661290e-02, 1.85661290e-02, 1.85661290e-02,\n",
       "        3.30849094e-04, 1.85661290e-02, 1.85661290e-02, 1.85661290e-02,\n",
       "        2.53736937e-04, 1.85661290e-02, 3.30849094e-04, 2.48544561e-03,\n",
       "        3.30849094e-04, 1.85661290e-02, 1.85661290e-02, 8.67433970e-04,\n",
       "        1.85661290e-02, 1.30374217e-04, 1.85661290e-02, 3.30849094e-04])>,\n",
       " <tf.Tensor: shape=(100,), dtype=float64, numpy=\n",
       " array([8.32553550e-04, 1.86675641e-02, 1.86675641e-02, 2.49902472e-03,\n",
       "        1.86675641e-02, 7.31000743e-04, 2.28688009e-04, 1.86675641e-02,\n",
       "        1.86675641e-02, 8.72241843e-05, 7.35613035e-03, 1.86675641e-02,\n",
       "        7.31000743e-04, 1.86675641e-02, 1.86675641e-02, 1.86675641e-02,\n",
       "        1.86675641e-02, 9.68474395e-05, 9.53156197e-04, 1.86675641e-02,\n",
       "        1.86675641e-02, 8.72241843e-05, 8.72241843e-05, 1.86675641e-02,\n",
       "        1.86675641e-02, 7.31000743e-04, 8.72241843e-05, 1.86675641e-02,\n",
       "        5.46053152e-03, 9.68474395e-05, 1.86675641e-02, 1.86675641e-02,\n",
       "        1.86675641e-02, 1.86675641e-02, 8.32553550e-04, 1.86675641e-02,\n",
       "        1.86675641e-02, 1.86675641e-02, 7.57871854e-04, 1.86675641e-02,\n",
       "        3.43715155e-05, 1.86675641e-02, 6.68945381e-05, 1.86675641e-02,\n",
       "        1.86675641e-02, 8.72241843e-05, 1.86675641e-02, 1.86675641e-02,\n",
       "        3.43715155e-05, 9.53156197e-04, 8.72241843e-05, 9.53156197e-04,\n",
       "        5.66125709e-03, 1.86675641e-02, 7.57871854e-04, 3.75600222e-04,\n",
       "        3.75600222e-04, 6.05366315e-03, 8.72241843e-05, 8.72241843e-05,\n",
       "        9.53156197e-04, 1.86675641e-02, 1.86675641e-02, 6.68945381e-05,\n",
       "        9.53156197e-04, 1.86675641e-02, 9.53156197e-04, 1.86675641e-02,\n",
       "        1.86675641e-02, 1.86675641e-02, 1.86675641e-02, 9.53156197e-04,\n",
       "        1.86675641e-02, 6.68945381e-05, 3.75600222e-04, 1.86675641e-02,\n",
       "        1.86675641e-02, 7.31000743e-04, 2.38550327e-03, 1.86675641e-02,\n",
       "        6.68945381e-05, 1.86675641e-02, 1.86675641e-02, 1.86675641e-02,\n",
       "        8.72241843e-05, 1.86675641e-02, 1.86675641e-02, 1.86675641e-02,\n",
       "        6.68945381e-05, 1.86675641e-02, 8.72241843e-05, 2.49902472e-03,\n",
       "        8.72241843e-05, 1.86675641e-02, 1.86675641e-02, 2.28688009e-04,\n",
       "        1.86675641e-02, 3.43715155e-05, 1.86675641e-02, 8.72241843e-05])>,\n",
       " <tf.Tensor: shape=(100,), dtype=float64, numpy=\n",
       " array([8.45858256e-04, 1.89658830e-02, 1.89658830e-02, 2.53896063e-03,\n",
       "        1.89658830e-02, 7.42682574e-04, 2.32342580e-04, 1.89658830e-02,\n",
       "        4.18540744e-03, 8.86180792e-05, 7.47368573e-03, 1.89658830e-02,\n",
       "        7.42682574e-04, 1.89658830e-02, 1.89658830e-02, 1.89658830e-02,\n",
       "        1.89658830e-02, 9.83951198e-05, 9.68388206e-04, 1.89658830e-02,\n",
       "        1.89658830e-02, 8.86180792e-05, 8.86180792e-05, 1.89658830e-02,\n",
       "        1.89658830e-02, 7.42682574e-04, 8.86180792e-05, 1.89658830e-02,\n",
       "        5.54779409e-03, 9.83951198e-05, 1.89658830e-02, 1.89658830e-02,\n",
       "        1.89658830e-02, 1.89658830e-02, 8.45858256e-04, 1.89658830e-02,\n",
       "        1.89658830e-02, 1.89658830e-02, 1.69920536e-04, 1.89658830e-02,\n",
       "        3.49207930e-05, 1.89658830e-02, 6.79635530e-05, 1.89658830e-02,\n",
       "        1.89658830e-02, 8.86180792e-05, 1.89658830e-02, 1.89658830e-02,\n",
       "        3.49207930e-05, 9.68388206e-04, 8.86180792e-05, 9.68388206e-04,\n",
       "        5.75172738e-03, 1.89658830e-02, 1.69920536e-04, 3.81602540e-04,\n",
       "        3.81602540e-04, 6.15040432e-03, 8.86180792e-05, 8.86180792e-05,\n",
       "        9.68388206e-04, 1.89658830e-02, 1.89658830e-02, 6.79635530e-05,\n",
       "        9.68388206e-04, 1.89658830e-02, 9.68388206e-04, 1.89658830e-02,\n",
       "        1.89658830e-02, 1.89658830e-02, 1.89658830e-02, 9.68388206e-04,\n",
       "        1.89658830e-02, 6.79635530e-05, 3.81602540e-04, 1.89658830e-02,\n",
       "        1.89658830e-02, 7.42682574e-04, 2.42362504e-03, 1.89658830e-02,\n",
       "        6.79635530e-05, 1.89658830e-02, 1.89658830e-02, 1.89658830e-02,\n",
       "        8.86180792e-05, 1.89658830e-02, 1.89658830e-02, 1.89658830e-02,\n",
       "        6.79635530e-05, 1.89658830e-02, 8.86180792e-05, 2.53896063e-03,\n",
       "        8.86180792e-05, 1.89658830e-02, 1.89658830e-02, 2.32342580e-04,\n",
       "        1.89658830e-02, 3.49207930e-05, 1.89658830e-02, 8.86180792e-05])>]"
      ]
     },
     "execution_count": 74,
     "metadata": {},
     "output_type": "execute_result"
    }
   ],
   "source": [
    "adaboost.sample_weights"
   ]
  },
  {
   "cell_type": "code",
   "execution_count": 59,
   "metadata": {
    "ExecuteTime": {
     "end_time": "2020-12-29T22:41:50.082248Z",
     "start_time": "2020-12-29T22:41:50.066208Z"
    }
   },
   "outputs": [],
   "source": [
    "import matplotlib.pyplot as plt"
   ]
  },
  {
   "cell_type": "code",
   "execution_count": 75,
   "metadata": {
    "ExecuteTime": {
     "end_time": "2020-12-29T22:44:07.848100Z",
     "start_time": "2020-12-29T22:44:07.537523Z"
    }
   },
   "outputs": [
    {
     "data": {
      "text/plain": [
       "[<matplotlib.lines.Line2D at 0x1b834fa72b0>]"
      ]
     },
     "execution_count": 75,
     "metadata": {},
     "output_type": "execute_result"
    },
    {
     "data": {
      "image/png": "[encoded data removed]",
      "text/plain": [
       "<Figure size 432x288 with 1 Axes>"
      ]
     },
     "metadata": {
      "needs_background": "light"
     },
     "output_type": "display_data"
    }
   ],
   "source": [
    "plt.plot(range(10), adaboost.error_list)"
   ]
  },
  {
   "cell_type": "markdown",
   "metadata": {},
   "source": [
    "### 四.问题讨论\n",
    "\n",
    "#### 1.基本要求：弱可学习\n",
    "注意有个基本要求，那就是$e_m<0.5$，即分类器至少是弱可学习的，这样才能保证$\\alpha_m>0$，此时样本的权重调整（如下公式）才有意义，即正确分类的样本权重降低，错误分类的样本权重升高：  \n",
    "\n",
    "$$\n",
    "w_{m+1,i}=\\left\\{\\begin{matrix}\n",
    "\\frac{w_{mi}}{Z_m}e^{-\\alpha_m}, & G_m(x_i)= y_i \\\\ \n",
    "\\frac{w_{mi}}{Z_m}e^{\\alpha_m} & G_m(x_i)\\neq y_i\n",
    "\\end{matrix}\\right.\n",
    "$$   \n",
    "\n",
    "对于二分类问题，弱可学习其实是很容易保证的，对于$e_m>0.5$的情况，只需要对其预测取反，即可得到$1-e_m<0.5$的错误率\n",
    "\n",
    "#### 2.基分类器不支持样本权重怎么办？\n",
    "对于不能支持样本权重训练的基分类器，可以通过样本重采样来实现"
   ]
  },
  {
   "cell_type": "markdown",
   "metadata": {},
   "source": [
    "### 五.训练误差分析\n",
    "这一部分证明训练误差会随着基分类器的数量增加而指数下降，首先抛出第一个不等式关系：   \n",
    "\n",
    "$$\n",
    "关系式1：\\frac{1}{N}\\sum_{i=1}^NI(G(x_i)\\neq y_i)\\leq \\frac{1}{N}\\sum_{i=1}^Nexp(-y_if(x_i))=\\prod_{m=1}^MZ_m\n",
    "$$  \n",
    "\n",
    "这里$f(x)=\\sum_{m=1}^M\\alpha_mG_m(x),G(x)=sign(f(x)),Z_m$与上面的定义一样，前半部分很好证明：如果$G(x_i)\\neq y_i$，则$y_if(x_i)<0$，所以$exp(-y_if(x_i))\\geq 1=I(G(x_i)\\neq y_i)$，而对于$G(x_i)= y_i$的情况，显然有$exp(-y_if(x_i))\\geq 0=I(G(x_i\\neq y_i))$；   \n",
    "\n",
    "接下来证明后半部分，根据之前的推导，有如下的两点条件需要注意：  \n",
    "\n",
    "$$\n",
    "条件1:w_{1i}=\\frac{1}{N},i=1,2,...,N\\\\\n",
    "条件2:w_{mi}exp(-\\alpha_my_iG_m(x_i))=Z_mw_{m+1,i},i=1,2,...,N,m=1,2,...,M\n",
    "$$  \n",
    "\n",
    "所以：  \n",
    "\n",
    "$$\n",
    "\\frac{1}{N}\\sum_{i=1}^Nexp(-y_if(x_i))\\\\\n",
    "=\\frac{1}{N}\\sum_{i=1}^Nexp(-\\sum_{m=1}^M\\alpha_my_iG_m(x_i)))\\\\\n",
    "=\\sum_{i=1}^N \\frac{1}{N}\\prod_{m=1}^Mexp(-\\alpha_my_iG_m(x_i))\\\\\n",
    "=\\sum_{i=1}^N w_{1i}\\prod_{m=1}^Mexp(-\\alpha_my_iG_m(x_i))(用到了条件1)\\\\\n",
    "=\\sum_{i=1}^N w_{1i}exp(-\\alpha_1y_iG_1(x_i))\\prod_{m=2}^Mexp(-\\alpha_my_iG_m(x_i))\\\\\n",
    "=\\sum_{i=1}^N Z_1w_{2i}\\prod_{m=2}^Mexp(-\\alpha_my_iG_m(x_i))(用到了条件2)\\\\\n",
    "=Z_1\\sum_{i=1}^N w_{2i}\\prod_{m=2}^Mexp(-\\alpha_my_iG_m(x_i))\\\\\n",
    "=Z_1Z_2\\sum_{i=1}^N w_{3i}\\prod_{m=3}^Mexp(-\\alpha_my_iG_m(x_i))\\\\\n",
    "=\\cdots\\\\\n",
    "=\\prod_{m=1}^MZ_m\n",
    "$$  \n",
    "\n",
    "接下来要抛出第二个关系式，对于二分类问题有如下不等式成立：  \n",
    "\n",
    "$$\n",
    "关系式2：\\prod_{m=1}^MZ_m=\\prod_{m=1}^M[2\\sqrt{e_m(1-e_m)}]=\\prod_{m=1}^M\\sqrt{1-4\\gamma_m^2}\\leq exp(-2\\sum_{i=1}^M\\gamma_m^2)\n",
    "$$  \n",
    "\n",
    "这里：$\\gamma_m=\\frac{1}{2}-e_m$，首先证明等式部分，由前面的算法部分，我们知道$e_m=\\sum_{i=1}^Nw_{mi}I(G_m(x_i)\\neq y_i)$，所以：  \n",
    "\n",
    "$$\n",
    "Z_m=\\sum_{i=1}^Nw_{mi}exp(-\\alpha_my_iG_m(x_i))\\\\\n",
    "=\\sum_{y_i=G_m(x_i)}w_{mi}e^{-\\alpha_m}+\\sum_{y_i\\neq G_m(x_i)}w_{mi}e^{\\alpha_m}\\\\\n",
    "=(1-e_m)e^{-\\alpha_m}+e_me^{\\alpha_m}\\\\\n",
    "=2\\sqrt{e_m(1-e_m)}\\\\\n",
    "=\\sqrt{1-4\\gamma_m^2}\n",
    "$$  \n",
    "\n",
    "至于不等式部分，其实对于$\\forall 0\\leq x\\leq 1$，都有$e^{-x/2}\\geq \\sqrt{1-x}$恒成立（证明从略，直观理解如下图），将$x$替换为$4\\gamma_m^2$即可得到上面的不等式，从而关系式2得到证明；  \n",
    "\n",
    "接下来简单做一个推论：一定能找到一个$\\gamma>0$，对所有$\\gamma_m\\geq\\gamma$成立，则有如下关系：  \n",
    "\n",
    "$$\n",
    "关系式3：exp(-2\\sum_{i=1}^M\\gamma_m^2)\\leq exp(-2M\\gamma^2)\n",
    "$$  \n",
    "\n",
    "结合关系式1、2、3可以得出：  \n",
    "\n",
    "$$\n",
    "\\frac{1}{N}\\sum_{i=1}^NI(G(x_i)\\neq y_i)\\leq exp(-2M\\gamma^2)\n",
    "$$  \n",
    "\n",
    "即adaboost的误差上界会随着$M$的增加以指数速率下降"
   ]
  },
  {
   "cell_type": "code",
   "execution_count": 13,
   "metadata": {},
   "outputs": [
    {
     "data": {
      "text/plain": [
       "[<matplotlib.lines.Line2D at 0x21a6b0c1048>]"
      ]
     },
     "execution_count": 13,
     "metadata": {},
     "output_type": "execute_result"
    },
    {
     "data": {
      "image/png": "[encoded data removed]",
      "text/plain": [
       "<matplotlib.figure.Figure at 0x21a6b0c1400>"
      ]
     },
     "metadata": {},
     "output_type": "display_data"
    }
   ],
   "source": [
    "import matplotlib.pyplot as plt\n",
    "x=np.linspace(0,1,10)\n",
    "plt.plot(x,np.sqrt(1-x),'b')\n",
    "plt.plot(x,np.exp(-0.5*x),'r')"
   ]
  },
  {
   "cell_type": "code",
   "execution_count": null,
   "metadata": {},
   "outputs": [],
   "source": []
  }
 ],
 "metadata": {
  "kernelspec": {
   "display_name": "Python 3",
   "language": "python",
   "name": "python3"
  },
  "language_info": {
   "codemirror_mode": {
    "name": "ipython",
    "version": 3
   },
   "file_extension": ".py",
   "mimetype": "text/x-python",
   "name": "python",
   "nbconvert_exporter": "python",
   "pygments_lexer": "ipython3",
   "version": "3.8.5"
  },
  "toc": {
   "base_numbering": 1,
   "nav_menu": {},
   "number_sections": true,
   "sideBar": true,
   "skip_h1_title": false,
   "title_cell": "Table of Contents",
   "title_sidebar": "Contents",
   "toc_cell": false,
   "toc_position": {},
   "toc_section_display": true,
   "toc_window_display": true
  }
 },
 "nbformat": 4,
 "nbformat_minor": 2
}
